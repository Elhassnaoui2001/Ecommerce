{
  "cells": [
    {
      "cell_type": "markdown",
      "metadata": {
        "id": "view-in-github",
        "colab_type": "text"
      },
      "source": [
        "<a href=\"https://colab.research.google.com/github/Elhassnaoui2001/Ecommerce/blob/Elhassnaoui2001-patch-1/starter_notebook_Zindi.ipynb\" target=\"_parent\"><img src=\"https://colab.research.google.com/assets/colab-badge.svg\" alt=\"Open In Colab\"/></a>"
      ]
    },
    {
      "cell_type": "markdown",
      "metadata": {
        "id": "TWAcVnR6egRI"
      },
      "source": [
        "# Nowcasting Starter Notebook"
      ]
    },
    {
      "cell_type": "code",
      "source": [
        "from google.colab import drive\n",
        "drive.mount('/content/drive')"
      ],
      "metadata": {
        "colab": {
          "base_uri": "https://localhost:8080/"
        },
        "id": "AD5Gn7nVei3G",
        "outputId": "106e01ae-2d22-4ba9-d967-f4f38eb807aa"
      },
      "execution_count": 100,
      "outputs": [
        {
          "output_type": "stream",
          "name": "stdout",
          "text": [
            "Drive already mounted at /content/drive; to attempt to forcibly remount, call drive.mount(\"/content/drive\", force_remount=True).\n"
          ]
        }
      ]
    },
    {
      "cell_type": "markdown",
      "metadata": {
        "id": "SOvLkAdwegRQ"
      },
      "source": [
        "In this notebook, a dataset containing new vehicle sales (Naamsa) is used to predict the CPI values. This notebook only contains one simple linear regression model, however, you are tasked to predict all the sub-categories of CPI as well as the overall CPI value. Therefore, you potentially could have 13 models. The notebook also contains a simple way to predict sub-category CPI values using historic values."
      ]
    },
    {
      "cell_type": "markdown",
      "metadata": {
        "id": "FJJIYfs4egRR"
      },
      "source": [
        "#### Step 1: Import Libraries"
      ]
    },
    {
      "cell_type": "markdown",
      "metadata": {
        "id": "m_X3FzD-egRS"
      },
      "source": [
        "In programming, we often use pre-built libraries that contain useful functions and tools for our specific task. In the code snippet below are examples containing such library imports.\n",
        "\n",
        "The first library, pandas, provides tools for working with structured data, while the second library, numpy, provides powerful numerical computing tools. The third library, matplotlib, allows us to create visualizations of our data, and the fourth library, datetime, provides functions for working with dates and times. Lastly, we are importing specific functions from the scikit-learn library, including train_test_split for splitting our data into training and testing sets, mean_squared_error for evaluating the performance of our model, LinearRegression for fitting a linear regression model, and StandardScaler for standardizing our data. By importing these libraries, we have access to a range of useful tools and functions that will help us in our programming task."
      ]
    },
    {
      "cell_type": "code",
      "execution_count": 101,
      "metadata": {
        "id": "_XxCgOgoegRT"
      },
      "outputs": [],
      "source": [
        "import pandas as pd\n",
        "import numpy as np\n",
        "import matplotlib.pyplot as plt\n",
        "import datetime as datetime\n",
        "\n",
        "\n",
        "from sklearn.model_selection import train_test_split\n",
        "from sklearn.metrics import mean_squared_error\n",
        "from sklearn.linear_model import LinearRegression\n",
        "from sklearn.preprocessing import StandardScaler"
      ]
    },
    {
      "cell_type": "markdown",
      "metadata": {
        "id": "n_AC9WLJegRZ"
      },
      "source": [
        "#### Import the dataset"
      ]
    },
    {
      "cell_type": "markdown",
      "metadata": {
        "id": "WP8r3GYbegRa"
      },
      "source": [
        "You should change the name: \"New_Vehicle_Sales_(Naamsa).csv\" to your filepath of your file."
      ]
    },
    {
      "cell_type": "code",
      "execution_count": 102,
      "metadata": {
        "colab": {
          "base_uri": "https://localhost:8080/"
        },
        "id": "cJXDVbixegRa",
        "outputId": "28e81ffc-bda7-4904-a8c7-4bebfdb6f041"
      },
      "outputs": [
        {
          "output_type": "stream",
          "name": "stderr",
          "text": [
            "<ipython-input-102-0c2fb21fc88a>:3: DeprecationWarning: In a future version, `df.iloc[:, i] = newvals` will attempt to set the values inplace instead of always setting a new array. To retain the old behavior, use either `df[df.columns[i]] = newvals` or, if columns are non-unique, `df.isetitem(i, newvals)`\n",
            "  df.iloc[:, 1:] = df.iloc[:, 1:].astype(float)\n"
          ]
        }
      ],
      "source": [
        "df = pd.read_csv(\"/content/drive/MyDrive/RMB Monthly Mini Challenge #4: Nowcast July/Naamsa_Vehicle_Sales.csv\")\n",
        "cpi_values = pd.read_csv(\"/content/drive/MyDrive/RMB Monthly Mini Challenge #4: Nowcast July/CPI_Historic_Values_Zindi_Feb_23.csv\")\n",
        "df.iloc[:, 1:] = df.iloc[:, 1:].astype(float)"
      ]
    },
    {
      "cell_type": "markdown",
      "metadata": {
        "id": "iE5nI4JUegRb"
      },
      "source": [
        "Add the dates to the dataset."
      ]
    },
    {
      "cell_type": "code",
      "execution_count": 103,
      "metadata": {
        "id": "5i6YMTY4egRc"
      },
      "outputs": [],
      "source": [
        "# start date\n",
        "start_date = datetime.datetime.strptime(\"2021-01-01\", \"%Y-%m-%d\")\n",
        "end_date = datetime.datetime.strptime(\"2023-03-01\", \"%Y-%m-%d\")\n",
        "\n",
        "# difference between each date. MS means one month\n",
        "D = 'MS'\n",
        "\n",
        "date_list = pd.date_range(start_date, end_date, freq=D)[::-1]"
      ]
    },
    {
      "cell_type": "markdown",
      "metadata": {
        "id": "MWJNGuTWegRd"
      },
      "source": [
        "Rename the Month column in the dataframe to Date"
      ]
    },
    {
      "cell_type": "code",
      "execution_count": 104,
      "metadata": {
        "id": "LHasixvDegRd"
      },
      "outputs": [],
      "source": [
        "df['Month'] = date_list\n",
        "df = df.rename(columns={'Month': 'Date'})"
      ]
    },
    {
      "cell_type": "markdown",
      "metadata": {
        "id": "7UnnT5YPegRd"
      },
      "source": [
        "Change the Date column values to datetime format so that Python can understand that it is a date value."
      ]
    },
    {
      "cell_type": "code",
      "execution_count": 105,
      "metadata": {
        "id": "2eptEBa1egRd"
      },
      "outputs": [],
      "source": [
        "df['Date'] = pd.to_datetime(df['Date'], format='%Y-%b-%d')"
      ]
    },
    {
      "cell_type": "markdown",
      "metadata": {
        "id": "RFfEtGStegRe"
      },
      "source": [
        "Create a filter to filter only for a certain date range as the values in the CPI Historic are only in this range."
      ]
    },
    {
      "cell_type": "code",
      "execution_count": 106,
      "metadata": {
        "colab": {
          "base_uri": "https://localhost:8080/",
          "height": 380
        },
        "id": "YjqmWCEzegRe",
        "outputId": "8038cb43-7efe-42dc-d198-4055632190a0"
      },
      "outputs": [
        {
          "output_type": "error",
          "ename": "ValueError",
          "evalue": "ignored",
          "traceback": [
            "\u001b[0;31m---------------------------------------------------------------------------\u001b[0m",
            "\u001b[0;31mValueError\u001b[0m                                Traceback (most recent call last)",
            "\u001b[0;32m<ipython-input-106-4be656dfa341>\u001b[0m in \u001b[0;36m<cell line: 2>\u001b[0;34m()\u001b[0m\n\u001b[1;32m      1\u001b[0m \u001b[0mdf\u001b[0m \u001b[0;34m=\u001b[0m \u001b[0mdf\u001b[0m\u001b[0;34m[\u001b[0m\u001b[0;34m(\u001b[0m\u001b[0mdf\u001b[0m\u001b[0;34m[\u001b[0m\u001b[0;34m'Date'\u001b[0m\u001b[0;34m]\u001b[0m \u001b[0;34m<\u001b[0m \u001b[0;34m'2023-03-01'\u001b[0m\u001b[0;34m)\u001b[0m \u001b[0;34m&\u001b[0m \u001b[0;34m(\u001b[0m\u001b[0mdf\u001b[0m\u001b[0;34m[\u001b[0m\u001b[0;34m'Date'\u001b[0m\u001b[0;34m]\u001b[0m \u001b[0;34m>=\u001b[0m \u001b[0;34m'2022-01-01'\u001b[0m\u001b[0;34m)\u001b[0m \u001b[0;34m]\u001b[0m\u001b[0;34m\u001b[0m\u001b[0;34m\u001b[0m\u001b[0m\n\u001b[0;32m----> 2\u001b[0;31m \u001b[0mdf\u001b[0m\u001b[0;34m[\u001b[0m\u001b[0;34m'CPI'\u001b[0m\u001b[0;34m]\u001b[0m \u001b[0;34m=\u001b[0m \u001b[0mcpi_values\u001b[0m\u001b[0;34m.\u001b[0m\u001b[0mloc\u001b[0m\u001b[0;34m[\u001b[0m\u001b[0mcpi_values\u001b[0m\u001b[0;34m[\u001b[0m\u001b[0;34m'Category'\u001b[0m\u001b[0;34m]\u001b[0m \u001b[0;34m==\u001b[0m \u001b[0;34m'headline_CPI'\u001b[0m\u001b[0;34m,\u001b[0m \u001b[0;34m'Value'\u001b[0m\u001b[0;34m]\u001b[0m\u001b[0;34m.\u001b[0m\u001b[0mtolist\u001b[0m\u001b[0;34m(\u001b[0m\u001b[0;34m)\u001b[0m\u001b[0;34m\u001b[0m\u001b[0;34m\u001b[0m\u001b[0m\n\u001b[0m",
            "\u001b[0;32m/usr/local/lib/python3.10/dist-packages/pandas/core/frame.py\u001b[0m in \u001b[0;36m__setitem__\u001b[0;34m(self, key, value)\u001b[0m\n\u001b[1;32m   3978\u001b[0m         \u001b[0;32melse\u001b[0m\u001b[0;34m:\u001b[0m\u001b[0;34m\u001b[0m\u001b[0;34m\u001b[0m\u001b[0m\n\u001b[1;32m   3979\u001b[0m             \u001b[0;31m# set column\u001b[0m\u001b[0;34m\u001b[0m\u001b[0;34m\u001b[0m\u001b[0m\n\u001b[0;32m-> 3980\u001b[0;31m             \u001b[0mself\u001b[0m\u001b[0;34m.\u001b[0m\u001b[0m_set_item\u001b[0m\u001b[0;34m(\u001b[0m\u001b[0mkey\u001b[0m\u001b[0;34m,\u001b[0m \u001b[0mvalue\u001b[0m\u001b[0;34m)\u001b[0m\u001b[0;34m\u001b[0m\u001b[0;34m\u001b[0m\u001b[0m\n\u001b[0m\u001b[1;32m   3981\u001b[0m \u001b[0;34m\u001b[0m\u001b[0m\n\u001b[1;32m   3982\u001b[0m     \u001b[0;32mdef\u001b[0m \u001b[0m_setitem_slice\u001b[0m\u001b[0;34m(\u001b[0m\u001b[0mself\u001b[0m\u001b[0;34m,\u001b[0m \u001b[0mkey\u001b[0m\u001b[0;34m:\u001b[0m \u001b[0mslice\u001b[0m\u001b[0;34m,\u001b[0m \u001b[0mvalue\u001b[0m\u001b[0;34m)\u001b[0m\u001b[0;34m:\u001b[0m\u001b[0;34m\u001b[0m\u001b[0;34m\u001b[0m\u001b[0m\n",
            "\u001b[0;32m/usr/local/lib/python3.10/dist-packages/pandas/core/frame.py\u001b[0m in \u001b[0;36m_set_item\u001b[0;34m(self, key, value)\u001b[0m\n\u001b[1;32m   4172\u001b[0m         \u001b[0mensure\u001b[0m \u001b[0mhomogeneity\u001b[0m\u001b[0;34m.\u001b[0m\u001b[0;34m\u001b[0m\u001b[0;34m\u001b[0m\u001b[0m\n\u001b[1;32m   4173\u001b[0m         \"\"\"\n\u001b[0;32m-> 4174\u001b[0;31m         \u001b[0mvalue\u001b[0m \u001b[0;34m=\u001b[0m \u001b[0mself\u001b[0m\u001b[0;34m.\u001b[0m\u001b[0m_sanitize_column\u001b[0m\u001b[0;34m(\u001b[0m\u001b[0mvalue\u001b[0m\u001b[0;34m)\u001b[0m\u001b[0;34m\u001b[0m\u001b[0;34m\u001b[0m\u001b[0m\n\u001b[0m\u001b[1;32m   4175\u001b[0m \u001b[0;34m\u001b[0m\u001b[0m\n\u001b[1;32m   4176\u001b[0m         if (\n",
            "\u001b[0;32m/usr/local/lib/python3.10/dist-packages/pandas/core/frame.py\u001b[0m in \u001b[0;36m_sanitize_column\u001b[0;34m(self, value)\u001b[0m\n\u001b[1;32m   4913\u001b[0m \u001b[0;34m\u001b[0m\u001b[0m\n\u001b[1;32m   4914\u001b[0m         \u001b[0;32mif\u001b[0m \u001b[0mis_list_like\u001b[0m\u001b[0;34m(\u001b[0m\u001b[0mvalue\u001b[0m\u001b[0;34m)\u001b[0m\u001b[0;34m:\u001b[0m\u001b[0;34m\u001b[0m\u001b[0;34m\u001b[0m\u001b[0m\n\u001b[0;32m-> 4915\u001b[0;31m             \u001b[0mcom\u001b[0m\u001b[0;34m.\u001b[0m\u001b[0mrequire_length_match\u001b[0m\u001b[0;34m(\u001b[0m\u001b[0mvalue\u001b[0m\u001b[0;34m,\u001b[0m \u001b[0mself\u001b[0m\u001b[0;34m.\u001b[0m\u001b[0mindex\u001b[0m\u001b[0;34m)\u001b[0m\u001b[0;34m\u001b[0m\u001b[0;34m\u001b[0m\u001b[0m\n\u001b[0m\u001b[1;32m   4916\u001b[0m         \u001b[0;32mreturn\u001b[0m \u001b[0msanitize_array\u001b[0m\u001b[0;34m(\u001b[0m\u001b[0mvalue\u001b[0m\u001b[0;34m,\u001b[0m \u001b[0mself\u001b[0m\u001b[0;34m.\u001b[0m\u001b[0mindex\u001b[0m\u001b[0;34m,\u001b[0m \u001b[0mcopy\u001b[0m\u001b[0;34m=\u001b[0m\u001b[0;32mTrue\u001b[0m\u001b[0;34m,\u001b[0m \u001b[0mallow_2d\u001b[0m\u001b[0;34m=\u001b[0m\u001b[0;32mTrue\u001b[0m\u001b[0;34m)\u001b[0m\u001b[0;34m\u001b[0m\u001b[0;34m\u001b[0m\u001b[0m\n\u001b[1;32m   4917\u001b[0m \u001b[0;34m\u001b[0m\u001b[0m\n",
            "\u001b[0;32m/usr/local/lib/python3.10/dist-packages/pandas/core/common.py\u001b[0m in \u001b[0;36mrequire_length_match\u001b[0;34m(data, index)\u001b[0m\n\u001b[1;32m    569\u001b[0m     \"\"\"\n\u001b[1;32m    570\u001b[0m     \u001b[0;32mif\u001b[0m \u001b[0mlen\u001b[0m\u001b[0;34m(\u001b[0m\u001b[0mdata\u001b[0m\u001b[0;34m)\u001b[0m \u001b[0;34m!=\u001b[0m \u001b[0mlen\u001b[0m\u001b[0;34m(\u001b[0m\u001b[0mindex\u001b[0m\u001b[0;34m)\u001b[0m\u001b[0;34m:\u001b[0m\u001b[0;34m\u001b[0m\u001b[0;34m\u001b[0m\u001b[0m\n\u001b[0;32m--> 571\u001b[0;31m         raise ValueError(\n\u001b[0m\u001b[1;32m    572\u001b[0m             \u001b[0;34m\"Length of values \"\u001b[0m\u001b[0;34m\u001b[0m\u001b[0;34m\u001b[0m\u001b[0m\n\u001b[1;32m    573\u001b[0m             \u001b[0;34mf\"({len(data)}) \"\u001b[0m\u001b[0;34m\u001b[0m\u001b[0;34m\u001b[0m\u001b[0m\n",
            "\u001b[0;31mValueError\u001b[0m: Length of values (0) does not match length of index (14)"
          ]
        }
      ],
      "source": [
        "df = df[(df['Date'] < '2023-03-01') & (df['Date'] >= '2022-01-01') ]\n",
        "df['CPI'] = cpi_values.loc[cpi_values['Category'] == 'headline_CPI', 'Value'].tolist()"
      ]
    },
    {
      "cell_type": "markdown",
      "metadata": {
        "id": "3cQyUEiuegRe"
      },
      "source": [
        "We can plot how the series has changed over time. The library we are using here is ggplot."
      ]
    },
    {
      "cell_type": "code",
      "execution_count": null,
      "metadata": {
        "id": "Rk1Fgk6XegRe"
      },
      "outputs": [],
      "source": [
        "plt.plot(df['Date'], df['CPI'], linewidth=2)\n",
        "plt.title('CPI South Africa')\n",
        "plt.xlabel('Date')\n",
        "plt.ylabel('Value')\n",
        "plt.xticks(rotation = 30)"
      ]
    },
    {
      "cell_type": "markdown",
      "metadata": {
        "id": "cLGCZqexegRg"
      },
      "source": [
        "A linear regression model unfortunately does not work with the Date as an object, therefore, we can use this line to convert it to a numerical value for the linear regression model."
      ]
    },
    {
      "cell_type": "code",
      "execution_count": null,
      "metadata": {
        "id": "BUDVE16SegRg"
      },
      "outputs": [],
      "source": [
        "df['Date']=df['Date'].map(datetime.datetime.toordinal)"
      ]
    },
    {
      "cell_type": "markdown",
      "metadata": {
        "id": "BZw7COe6egRg"
      },
      "source": [
        "In machine learning, a training set is a subset of data used to train a model, while a test set is a subset of data used to evaluate the performance of the trained model on new, unseen data. The training set is used to fit the model parameters, while the test set is used to estimate how well the model generalizes to new data. Here we can split the dataset into a training and test set with a ratio of 80:20."
      ]
    },
    {
      "cell_type": "code",
      "execution_count": null,
      "metadata": {
        "id": "OkVI7x4uegRh"
      },
      "outputs": [],
      "source": [
        "y = df['CPI']\n",
        "X = df.drop('CPI', axis=1)\n",
        "X_train, X_test, y_train, y_test = train_test_split(X, y, test_size=0.2, random_state=123)"
      ]
    },
    {
      "cell_type": "markdown",
      "metadata": {
        "id": "IUQQuylJegRj"
      },
      "source": [
        "Finally, we can fit our model using our training set."
      ]
    },
    {
      "cell_type": "code",
      "execution_count": null,
      "metadata": {
        "id": "E65MY2siegRj"
      },
      "outputs": [],
      "source": [
        "# model = LinearRegression()\n",
        "# model.fit(X_train, y_train)"
      ]
    },
    {
      "cell_type": "markdown",
      "metadata": {
        "id": "ko77ThaFegRj"
      },
      "source": [
        "We can use the predict attribute to predict the CPI for the test set."
      ]
    },
    {
      "cell_type": "code",
      "source": [
        "from sklearn.linear_model import Ridge\n",
        "ridge = Ridge(alpha=0.1)\n",
        "ridge.fit(X_train, y_train)\n"
      ],
      "metadata": {
        "id": "Mls7hOxCnhG8"
      },
      "execution_count": null,
      "outputs": []
    },
    {
      "cell_type": "code",
      "execution_count": null,
      "metadata": {
        "id": "H8t-WFjiegRk"
      },
      "outputs": [],
      "source": [
        "predictions = ridge.predict(X_test)"
      ]
    },
    {
      "cell_type": "markdown",
      "metadata": {
        "id": "6M89udHQegRk"
      },
      "source": [
        "We can use the mean squared error function from the sklearn package to calculate the RMSE of the model."
      ]
    },
    {
      "cell_type": "code",
      "execution_count": null,
      "metadata": {
        "id": "2PdCQucBegRk"
      },
      "outputs": [],
      "source": [
        "mean_squared_error(y_test,predictions)"
      ]
    },
    {
      "cell_type": "markdown",
      "metadata": {
        "id": "sqq1-H4LegRl"
      },
      "source": [
        "### Training the model on historical data and then predicting February 2023 CPI"
      ]
    },
    {
      "cell_type": "markdown",
      "metadata": {
        "id": "C2jc3qvvegRm"
      },
      "source": [
        "Import dataset and change Date column to datetime object"
      ]
    },
    {
      "cell_type": "code",
      "execution_count": null,
      "metadata": {
        "id": "2eJgr7xWegRn"
      },
      "outputs": [],
      "source": [
        "df = pd.read_csv(\"/content/drive/MyDrive/RMB Monthly Mini Challenge #4: Nowcast July/Naamsa_Vehicle_Sales.csv\")\n",
        "cpi_values = pd.read_csv(\"/content/drive/MyDrive/RMB Monthly Mini Challenge #4: Nowcast July/CPI_Historic_Values_Zindi_Feb_23.csv\")\n",
        "df.iloc[:, 1:] = df.iloc[:, 1:].astype(float)"
      ]
    },
    {
      "cell_type": "code",
      "execution_count": null,
      "metadata": {
        "id": "i9H_Uhz1egRn"
      },
      "outputs": [],
      "source": [
        "# start date\n",
        "start_date = datetime.datetime.strptime(\"2021-01-01\", \"%Y-%m-%d\")\n",
        "end_date = datetime.datetime.strptime(\"2023-03-01\", \"%Y-%m-%d\")\n",
        "\n",
        "# difference between each date. MS means one motnh\n",
        "D = 'MS'\n",
        "\n",
        "date_list = pd.date_range(start_date, end_date, freq=D)[::-1]"
      ]
    },
    {
      "cell_type": "code",
      "execution_count": null,
      "metadata": {
        "id": "z97FsMESegRn"
      },
      "outputs": [],
      "source": [
        "df['Month'] = date_list\n",
        "df = df.rename(columns={'Month': 'Date'})\n",
        "df['Date'] = pd.to_datetime(df['Date'], format='%Y-%b-%d')\n",
        "df = df[(df['Date'] < '2023-03-01') & (df['Date'] >= '2022-01-01') ]\n",
        "df['CPI'] = cpi_values.loc[cpi_values['Category'] == 'headline_CPI', 'Value'].tolist()"
      ]
    },
    {
      "cell_type": "markdown",
      "metadata": {
        "id": "sh5vf2tOegRo"
      },
      "source": [
        "Remove the data for February from the dataset"
      ]
    },
    {
      "cell_type": "code",
      "execution_count": null,
      "metadata": {
        "id": "hkOgMC1-egRo"
      },
      "outputs": [],
      "source": [
        "mask = (df[\"Date\"] == \"2023-02-01\")\n",
        "february = df[mask]\n",
        "df = df[~mask]"
      ]
    },
    {
      "cell_type": "markdown",
      "metadata": {
        "id": "gvW8yhkWegRo"
      },
      "source": [
        "Splitting remaining data into a train and test set"
      ]
    },
    {
      "cell_type": "code",
      "execution_count": null,
      "metadata": {
        "id": "0xvks_JwegRo"
      },
      "outputs": [],
      "source": [
        "X = df.drop('CPI', axis=1)\n",
        "y = df['CPI']\n",
        "X_train, X_test, y_train, y_test = train_test_split(X, y, test_size=0.1, random_state=123)\n",
        "X_train['Date']=X_train['Date'].map(datetime.datetime.toordinal)\n",
        "X_test['Date']=X_test['Date'].map(datetime.datetime.toordinal)\n",
        "february['Date'] = february['Date'].map(datetime.datetime.toordinal)"
      ]
    },
    {
      "cell_type": "markdown",
      "metadata": {
        "id": "bJDKgrvAegRp"
      },
      "source": [
        "Fit the model using the training data"
      ]
    },
    {
      "cell_type": "code",
      "execution_count": null,
      "metadata": {
        "id": "L9g5jUFvegRp"
      },
      "outputs": [],
      "source": [
        "# model = LinearRegression()\n",
        "# model.fit(X_train, y_train)"
      ]
    },
    {
      "cell_type": "code",
      "source": [
        "from sklearn.linear_model import Ridge\n",
        "ridge = Ridge(alpha=0.1)\n",
        "ridge.fit(X_train, y_train)\n"
      ],
      "metadata": {
        "id": "ldZNc2L4m3--"
      },
      "execution_count": null,
      "outputs": []
    },
    {
      "cell_type": "markdown",
      "metadata": {
        "id": "fZPzPclTegRu"
      },
      "source": [
        "Use the model to predict the February CPI value and calculate RMSE"
      ]
    },
    {
      "cell_type": "code",
      "execution_count": null,
      "metadata": {
        "id": "mbz-a7fbegRu"
      },
      "outputs": [],
      "source": [
        "predictions = ridge.predict(february.drop(columns=['CPI']))\n",
        "mean_squared_error(february['CPI'],predictions)"
      ]
    },
    {
      "cell_type": "markdown",
      "metadata": {
        "id": "J3lx3WR5egRv"
      },
      "source": [
        "## Sub-category prediction model example:"
      ]
    },
    {
      "cell_type": "markdown",
      "metadata": {
        "id": "u9TmmjoLegRv"
      },
      "source": [
        "The headline CPI value consists of a weighted sum of 12 sub-categories. Therefore, a prediction should be made for each of the 12 sub-categories. For this first starter notebook, a simple weighted calculation will be used to calculate a given sub-category CPI value."
      ]
    },
    {
      "cell_type": "code",
      "execution_count": null,
      "metadata": {
        "id": "VkOkGO9-egRw"
      },
      "outputs": [],
      "source": [
        "df = pd.read_csv('/content/drive/MyDrive/RMB Monthly Mini Challenge #4: Nowcast July/CPI_Historic_Values_Zindi.csv')\n",
        "cpi_weights = pd.read_excel('/content/drive/MyDrive/RMB Monthly Mini Challenge #4: Nowcast July/cpi_weights.xlsx')\n",
        "categories = df['Category'].unique()\n",
        "df['Month'] = pd.to_datetime(df['Month'], format='%d-%m-%Y')\n",
        "df.sort_values(by='Month', inplace = True, ascending= False)"
      ]
    },
    {
      "cell_type": "markdown",
      "metadata": {
        "id": "xNrcL9CSegRw"
      },
      "source": []
    },
    {
      "cell_type": "markdown",
      "metadata": {
        "id": "u3W_GQHUegRw"
      },
      "source": [
        "Obtain the most recent cpi and sub-category values by creating a filter. This code snippet produces all the data from January 2023."
      ]
    },
    {
      "cell_type": "code",
      "execution_count": null,
      "metadata": {
        "id": "LzkpOXOnegRx"
      },
      "outputs": [],
      "source": [
        "recent_cpi_values = df.loc[df['Month'] >= '01-01-2023']"
      ]
    },
    {
      "cell_type": "markdown",
      "metadata": {
        "id": "gzic_2phegRx"
      },
      "source": [
        "The following code uses a weighting system, giving most weight to the most recent sub-category CPI values, to predict the change in the CPI values for February:"
      ]
    },
    {
      "cell_type": "code",
      "execution_count": null,
      "metadata": {
        "id": "ANTIgpHyegRx"
      },
      "outputs": [],
      "source": [
        "cpi_dict = {}\n",
        "\n",
        "for category in df['Category'].unique():\n",
        "    filtered_df = df[df['Category'] == category].copy()\n",
        "\n",
        "    filtered_df['Month'] = pd.to_datetime(filtered_df['Month'], format='%d-%m-%Y')\n",
        "    filtered_df.sort_values(by='Month', inplace=True, ascending=False)\n",
        "\n",
        "    weights = 0.5 * pd.Series([0.5**i for i in range(len(filtered_df))])\n",
        "\n",
        "    filtered_df['Weighted Percentage Change'] = weights.values * filtered_df['Percentage Change (From Prior Month)']\n",
        "    cpi_value = filtered_df['Weighted Percentage Change'].sum()\n",
        "    cpi_dict[category] = cpi_value\n",
        "    if category != 'Headline_CPI':\n",
        "        print(f'February weighted sub-category CPI percentage change for {category} is: {round(cpi_value,2)}')"
      ]
    },
    {
      "cell_type": "markdown",
      "metadata": {
        "id": "8-335lfGegRy"
      },
      "source": [
        "We can now calculate the Headline CPI values now that we predicted the change in each sub-category CPI value. We combine the weights from StatsSA and the previous months sub-category CPI value to calculate the Headline CPI value for February:"
      ]
    },
    {
      "cell_type": "code",
      "execution_count": null,
      "metadata": {
        "id": "0Lf1PashegRy"
      },
      "outputs": [],
      "source": [
        "weighted_cpi_value = 0\n",
        "for category in cpi_dict.keys():\n",
        "    weight = cpi_weights.loc[cpi_weights['Category'] == category, 'Weight'].values[0]\n",
        "    change = recent_cpi_values.loc[recent_cpi_values['Category'] == category, 'Value'].values[0]\n",
        "    cpi_value = (cpi_dict[category] + change) * weight/100\n",
        "    if category != 'Headline_CPI':\n",
        "        weighted_cpi_value += cpi_value\n",
        "cpi_dict['Headline_CPI'] = round(weighted_cpi_value, 2)\n",
        "print(f'The predicted February value for the Headline CPI is {round(weighted_cpi_value,2)}.')"
      ]
    },
    {
      "cell_type": "markdown",
      "metadata": {
        "id": "wfpKFw-8egRz"
      },
      "source": [
        "We follow the same idea to predict the sub-category CPI values for March by using an extrapolated the results from February."
      ]
    },
    {
      "cell_type": "code",
      "execution_count": null,
      "metadata": {
        "id": "I_h7x3FZegRz"
      },
      "outputs": [],
      "source": [
        "cpi_dict = {}\n",
        "cpi_percentage_change = {}\n",
        "for category in df['Category'].unique():\n",
        "    filtered_df = df[df['Category'] == category].copy()\n",
        "\n",
        "    filtered_df['Month'] = pd.to_datetime(filtered_df['Month'], format='%d-%m-%Y')\n",
        "    filtered_df.sort_values(by='Month', inplace=True, ascending=False)\n",
        "\n",
        "    weights = 0.5 * pd.Series([0.5**i for i in range(len(filtered_df))])\n",
        "\n",
        "    filtered_df['Weighted Percentage Change'] = weights.values * filtered_df['Percentage Change (From Prior Month)'] * 2\n",
        "    cpi_value = filtered_df['Weighted Percentage Change'].sum()\n",
        "    cpi_dict[category] = cpi_value\n",
        "    if category != 'Headline_CPI':\n",
        "        print(f'March weighted sub-category CPI percentage change for {category} is: {round(cpi_value,2)}')"
      ]
    },
    {
      "cell_type": "markdown",
      "metadata": {
        "id": "12nJEum9egR0"
      },
      "source": [
        "Here we again calculate the Headline CPI value for March by using the weights from StatsSA."
      ]
    },
    {
      "cell_type": "code",
      "execution_count": null,
      "metadata": {
        "id": "NT5ihhbcegR0"
      },
      "outputs": [],
      "source": [
        "weighted_cpi_value = 0\n",
        "for category in cpi_dict.keys():\n",
        "    weight = cpi_weights.loc[cpi_weights['Category'] == category, 'Weight'].values[0]\n",
        "    change = recent_cpi_values.loc[recent_cpi_values['Category'] == category, 'Value'].values[0]\n",
        "    cpi_value_new = cpi_dict[category] + change\n",
        "    cpi_value_weighted = cpi_value_new * weight/100\n",
        "    cpi_dict[category] = round(cpi_value_new, 2)\n",
        "    if category != 'Headline_CPI':\n",
        "        weighted_cpi_value += cpi_value_weighted\n",
        "cpi_dict['Headline_CPI'] = round(weighted_cpi_value, 2)\n",
        "print(f'The predicted March value for the headline CPI is {round(weighted_cpi_value,2)}.')"
      ]
    },
    {
      "cell_type": "markdown",
      "metadata": {
        "id": "fAsf59xpegR0"
      },
      "source": [
        "We follow the same idea to predict the sub-category CPI values for April by using an extrapolated the results from February."
      ]
    },
    {
      "cell_type": "code",
      "execution_count": null,
      "metadata": {
        "id": "UrQj6bdFegR1"
      },
      "outputs": [],
      "source": [
        "cpi_dict = {}\n",
        "cpi_percentage_change = {}\n",
        "for category in df['Category'].unique():\n",
        "    filtered_df = df[df['Category'] == category].copy()\n",
        "\n",
        "    filtered_df['Month'] = pd.to_datetime(filtered_df['Month'], format='%d-%m-%Y')\n",
        "    filtered_df.sort_values(by='Month', inplace=True, ascending=False)\n",
        "\n",
        "    weights = 0.5 * pd.Series([0.5**i for i in range(len(filtered_df))])\n",
        "\n",
        "    filtered_df['Weighted Percentage Change'] = weights.values * filtered_df['Percentage Change (From Prior Month)'] * 3\n",
        "    cpi_value = filtered_df['Weighted Percentage Change'].sum()\n",
        "    cpi_dict[category] = cpi_value\n",
        "    if category != 'Headline_CPI':\n",
        "        print(f'April weighted sub-category CPI percentage change for {category} is: {round(cpi_value,2)}')"
      ]
    },
    {
      "cell_type": "markdown",
      "metadata": {
        "id": "gLmqrQfuegR1"
      },
      "source": [
        "Lastly, we calculate the Headline CPI value for April."
      ]
    },
    {
      "cell_type": "code",
      "execution_count": null,
      "metadata": {
        "id": "M7Wu5hpIegR2"
      },
      "outputs": [],
      "source": [
        "weighted_cpi_value = 0\n",
        "for category in cpi_dict.keys():\n",
        "    weight = cpi_weights.loc[cpi_weights['Category'] == category, 'Weight'].values[0]\n",
        "    change = recent_cpi_values.loc[recent_cpi_values['Category'] == category, 'Value'].values[0]\n",
        "    cpi_value_new = cpi_dict[category] + change\n",
        "    cpi_value_weighted = cpi_value_new * weight/100\n",
        "    cpi_dict[category] = round(cpi_value_new, 2)\n",
        "    if category != 'Headline_CPI':\n",
        "        weighted_cpi_value += cpi_value_weighted\n",
        "\n",
        "cpi_dict['headline_CPI'] = round(weighted_cpi_value, 2)\n",
        "print(f'The predicted July value for the headline CPI is {round(weighted_cpi_value,2)}.')"
      ]
    },
    {
      "cell_type": "markdown",
      "metadata": {
        "id": "1EQ8YAWIegR3"
      },
      "source": [
        "Now to get the results ready for submission:"
      ]
    },
    {
      "cell_type": "code",
      "execution_count": null,
      "metadata": {
        "id": "KeWEawLJegR3"
      },
      "outputs": [],
      "source": [
        "cpi_predictions = pd.DataFrame(list(cpi_dict.items()), columns=['ID', 'Value'])\n",
        "cpi_predictions['ID'] = 'July_' + cpi_predictions['ID']"
      ]
    },
    {
      "cell_type": "markdown",
      "metadata": {
        "id": "HjzbvV-_egR4"
      },
      "source": [
        "Output to excel file:"
      ]
    },
    {
      "cell_type": "code",
      "execution_count": null,
      "metadata": {
        "id": "MwJOSN_zegR4"
      },
      "outputs": [],
      "source": [
        "cpi_predictions.to_csv('ridge.csv', index = 0)"
      ]
    }
  ],
  "metadata": {
    "kernelspec": {
      "display_name": "base",
      "language": "python",
      "name": "python3"
    },
    "language_info": {
      "codemirror_mode": {
        "name": "ipython",
        "version": 3
      },
      "file_extension": ".py",
      "mimetype": "text/x-python",
      "name": "python",
      "nbconvert_exporter": "python",
      "pygments_lexer": "ipython3",
      "version": "3.9.13"
    },
    "orig_nbformat": 4,
    "colab": {
      "provenance": [],
      "include_colab_link": true
    }
  },
  "nbformat": 4,
  "nbformat_minor": 0
}